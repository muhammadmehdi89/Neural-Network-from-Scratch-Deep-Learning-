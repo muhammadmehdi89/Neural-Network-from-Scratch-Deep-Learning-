{
 "cells": [
  {
   "cell_type": "code",
   "execution_count": 279,
   "id": "70fa1dbd",
   "metadata": {},
   "outputs": [],
   "source": [
    "import numpy as np"
   ]
  },
  {
   "cell_type": "code",
   "execution_count": 280,
   "id": "cb4ef21e",
   "metadata": {},
   "outputs": [],
   "source": [
    "a = np.array([1,2,3])\n",
    "b = np.array([[1000,400,1200],\n",
    "              [1000,400,1200],\n",
    "              [1000,400,1200]])"
   ]
  },
  {
   "cell_type": "code",
   "execution_count": 281,
   "id": "26bb75f3",
   "metadata": {},
   "outputs": [
    {
     "data": {
      "text/plain": [
       "array([6000, 2400, 7200])"
      ]
     },
     "execution_count": 281,
     "metadata": {},
     "output_type": "execute_result"
    }
   ],
   "source": [
    "np.dot(a,b)"
   ]
  },
  {
   "cell_type": "code",
   "execution_count": 369,
   "id": "d95f27c7",
   "metadata": {},
   "outputs": [],
   "source": [
    "y_pred = np.array([1,1,0,0,1])\n",
    "y_test = np.array([0.3,0.7,1,0,0.5])"
   ]
  },
  {
   "cell_type": "markdown",
   "id": "ab5304c9",
   "metadata": {},
   "source": [
    "# Mean Square error"
   ]
  },
  {
   "cell_type": "code",
   "execution_count": 283,
   "id": "1bee212c",
   "metadata": {},
   "outputs": [],
   "source": [
    "def mse(y_pred, y_test):\n",
    "    total_error=0\n",
    "    for i,j in zip(y_test,y_pred):\n",
    "        print(j,' : ',i)\n",
    "        error = j - i\n",
    "        total_error=total_error+error\n",
    "        print(total_error)\n",
    "        #total_error=error\n",
    "    #print('Total error: ',total_error)\n",
    "    #total_error = total_error*total_error\n",
    "    #total_error = total_error/len(y_pred)\n",
    "    #print(\"Mean Square error\", total_error)"
   ]
  },
  {
   "cell_type": "code",
   "execution_count": 284,
   "id": "60e89abd",
   "metadata": {},
   "outputs": [
    {
     "data": {
      "text/plain": [
       "0.1"
      ]
     },
     "execution_count": 284,
     "metadata": {},
     "output_type": "execute_result"
    }
   ],
   "source": [
    "def mae(y_pred,y_test):\n",
    "    total_error = 0\n",
    "    for i in range (len(y_test)):\n",
    "        total_error += y_pred[i]-y_test[i]\n",
    "        total_error = abs(total_error)\n",
    "    return total_error/len(y_pred)\n",
    "mae(y_pred,y_test)"
   ]
  },
  {
   "cell_type": "code",
   "execution_count": 285,
   "id": "1c9e4080",
   "metadata": {},
   "outputs": [
    {
     "name": "stdout",
     "output_type": "stream",
     "text": [
      "0.1\n"
     ]
    }
   ],
   "source": [
    "a = abs(sum(y_pred-y_test))\n",
    "a = a/len(y_pred)\n",
    "print (a)"
   ]
  },
  {
   "cell_type": "code",
   "execution_count": 286,
   "id": "7085dbb7",
   "metadata": {},
   "outputs": [],
   "source": [
    "def mae(y_pred, y_test):\n",
    "    total_error = 0\n",
    "    total_error = abs(sum(y_pred-y_test))\n",
    "    print(\"Total error: \",total_error)\n",
    "    error = np.mean(abs(y_pred-y_test))\n",
    "    print(error)\n",
    "    mae= total_error/len(y_pred)\n",
    "    print(\"Mean Square: \",mae)"
   ]
  },
  {
   "cell_type": "code",
   "execution_count": null,
   "id": "1628e815",
   "metadata": {},
   "outputs": [],
   "source": []
  },
  {
   "cell_type": "code",
   "execution_count": 287,
   "id": "205c2965",
   "metadata": {},
   "outputs": [
    {
     "name": "stdout",
     "output_type": "stream",
     "text": [
      "Total error:  0.5\n",
      "0.5\n",
      "Mean Square:  0.1\n"
     ]
    }
   ],
   "source": [
    "mae(y_pred, y_test)"
   ]
  },
  {
   "cell_type": "code",
   "execution_count": 288,
   "id": "03799552",
   "metadata": {},
   "outputs": [
    {
     "name": "stdout",
     "output_type": "stream",
     "text": [
      "1  :  0.3\n",
      "0.7\n",
      "1  :  0.7\n",
      "1.0\n",
      "0  :  1.0\n",
      "0.0\n",
      "0  :  0.0\n",
      "0.0\n",
      "1  :  0.5\n",
      "0.5\n"
     ]
    }
   ],
   "source": [
    "mse(y_pred, y_test)"
   ]
  },
  {
   "cell_type": "code",
   "execution_count": 289,
   "id": "e1cf9179",
   "metadata": {},
   "outputs": [
    {
     "name": "stderr",
     "output_type": "stream",
     "text": [
      "C:\\Users\\mehdi\\AppData\\Local\\Temp\\ipykernel_8888\\4184140517.py:1: RuntimeWarning: divide by zero encountered in log\n",
      "  np.log(y_pred)\n"
     ]
    },
    {
     "data": {
      "text/plain": [
       "array([  0.,   0., -inf, -inf,   0.])"
      ]
     },
     "execution_count": 289,
     "metadata": {},
     "output_type": "execute_result"
    }
   ],
   "source": [
    "np.log(y_pred)"
   ]
  },
  {
   "cell_type": "code",
   "execution_count": 291,
   "id": "2428cb12",
   "metadata": {},
   "outputs": [],
   "source": [
    "eps = 1e-15\n"
   ]
  },
  {
   "cell_type": "code",
   "execution_count": 292,
   "id": "16e55037",
   "metadata": {},
   "outputs": [
    {
     "data": {
      "text/plain": [
       "0.9999996940976795"
      ]
     },
     "execution_count": 292,
     "metadata": {},
     "output_type": "execute_result"
    }
   ],
   "source": [
    "1-np.exp(-15)"
   ]
  },
  {
   "cell_type": "code",
   "execution_count": 293,
   "id": "851ad0a1",
   "metadata": {},
   "outputs": [
    {
     "data": {
      "text/plain": [
       "[1, 1, 1e-15, 1e-15, 1]"
      ]
     },
     "execution_count": 293,
     "metadata": {},
     "output_type": "execute_result"
    }
   ],
   "source": [
    "y_ne_p = [max(i,eps) for i in (y_pred) ]\n",
    "y_ne_p"
   ]
  },
  {
   "cell_type": "code",
   "execution_count": 294,
   "id": "623ea9d7",
   "metadata": {},
   "outputs": [
    {
     "data": {
      "text/plain": [
       "array([1.e+00, 1.e+00, 1.e-15, 1.e-15, 1.e+00])"
      ]
     },
     "execution_count": 294,
     "metadata": {},
     "output_type": "execute_result"
    }
   ],
   "source": [
    "y_ne_p =np.array([min(i,1-eps) for i in y_ne_p])\n",
    "y_ne_p"
   ]
  },
  {
   "cell_type": "code",
   "execution_count": 295,
   "id": "09649d17",
   "metadata": {},
   "outputs": [
    {
     "data": {
      "text/plain": [
       "array([-9.99200722e-16, -9.99200722e-16, -3.45387764e+01, -3.45387764e+01,\n",
       "       -9.99200722e-16])"
      ]
     },
     "execution_count": 295,
     "metadata": {},
     "output_type": "execute_result"
    }
   ],
   "source": [
    "np.log(y_ne_p)"
   ]
  },
  {
   "cell_type": "code",
   "execution_count": 296,
   "id": "d9dc400d",
   "metadata": {},
   "outputs": [
    {
     "data": {
      "text/plain": [
       "17.2696280766844"
      ]
     },
     "execution_count": 296,
     "metadata": {},
     "output_type": "execute_result"
    }
   ],
   "source": [
    "-np.mean(y_test*np.log(y_ne_p)+(1-y_test)*np.log(1-y_ne_p))"
   ]
  },
  {
   "cell_type": "markdown",
   "id": "a5f863f3",
   "metadata": {},
   "source": [
    "# Proper form of log function"
   ]
  },
  {
   "cell_type": "code",
   "execution_count": 327,
   "id": "53de4fd6",
   "metadata": {},
   "outputs": [],
   "source": [
    "def log_loss(y_test,y_pred):\n",
    "    eps=1e-15\n",
    "    total_error = 0\n",
    "    y_ne_p = [max(i,eps) for i in (y_pred) ]\n",
    "    y_ne_p =np.array([min(i,1-eps) for i in y_ne_p])\n",
    "    return -np.mean(y_test*np.log(y_ne_p)+(1-y_test)*np.log(1-y_ne_p))\n",
    "    "
   ]
  },
  {
   "cell_type": "code",
   "execution_count": 328,
   "id": "dd8a6f03",
   "metadata": {},
   "outputs": [],
   "source": [
    "a = log_loss(y_test,y_pred)"
   ]
  },
  {
   "cell_type": "code",
   "execution_count": 329,
   "id": "6f77a441",
   "metadata": {},
   "outputs": [
    {
     "name": "stdout",
     "output_type": "stream",
     "text": [
      "17.2696280766844\n"
     ]
    }
   ],
   "source": [
    "print(a)"
   ]
  },
  {
   "cell_type": "code",
   "execution_count": 373,
   "id": "01ee447a",
   "metadata": {},
   "outputs": [],
   "source": [
    "def log_loss(y_test,y_pred):\n",
    "    eps=1e-15\n",
    "    total_error = 0\n",
    "    y_ne_p = [max(i,eps) for i in (y_pred) ]\n",
    "    y_ne_p =np.array([min(i,1-eps) for i in y_ne_p])\n",
    "    total_error = -sum(y_test*np.log(y_ne_p)+(1-y_test)*np.log(1-y_ne_p))\n",
    "    return total_error/len(y_test)\n",
    "    "
   ]
  },
  {
   "cell_type": "code",
   "execution_count": 374,
   "id": "8840255d",
   "metadata": {},
   "outputs": [],
   "source": [
    "a = log_loss(y_test,y_pred)"
   ]
  },
  {
   "cell_type": "code",
   "execution_count": 375,
   "id": "693d4858",
   "metadata": {},
   "outputs": [
    {
     "data": {
      "text/plain": [
       "17.2696280766844"
      ]
     },
     "execution_count": 375,
     "metadata": {},
     "output_type": "execute_result"
    }
   ],
   "source": [
    "a"
   ]
  }
 ],
 "metadata": {
  "kernelspec": {
   "display_name": "Python 3 (ipykernel)",
   "language": "python",
   "name": "python3"
  },
  "language_info": {
   "codemirror_mode": {
    "name": "ipython",
    "version": 3
   },
   "file_extension": ".py",
   "mimetype": "text/x-python",
   "name": "python",
   "nbconvert_exporter": "python",
   "pygments_lexer": "ipython3",
   "version": "3.11.1"
  }
 },
 "nbformat": 4,
 "nbformat_minor": 5
}
